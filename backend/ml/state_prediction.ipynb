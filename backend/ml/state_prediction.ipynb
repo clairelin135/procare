{
 "cells": [
  {
   "cell_type": "code",
   "execution_count": 25,
   "metadata": {},
   "outputs": [],
   "source": [
    "import pandas as pd\n",
    "import numpy as np\n",
    "import pickle"
   ]
  },
  {
   "cell_type": "code",
   "execution_count": 26,
   "metadata": {},
   "outputs": [],
   "source": [
    "from sklearn.feature_extraction import DictVectorizer\n",
    "from sklearn.ensemble import RandomForestClassifier\n",
    "from sklearn.linear_model import LogisticRegressionCV\n",
    "from sklearn.model_selection import train_test_split\n",
    "from sklearn.model_selection import StratifiedShuffleSplit\n",
    "from sklearn.metrics import accuracy_score"
   ]
  },
  {
   "cell_type": "code",
   "execution_count": 27,
   "metadata": {},
   "outputs": [],
   "source": [
    "def one_hot_encoding(data, column):\n",
    "    if column not in data.columns:\n",
    "        return data\n",
    "    \n",
    "    vec_enc = DictVectorizer()\n",
    "    vec_enc.fit(data[[column]].to_dict(orient='records'))\n",
    "    fireplace_qu_data = vec_enc.transform(data[[column]].to_dict(orient='records')).toarray()\n",
    "    fireplace_qu_cats = vec_enc.get_feature_names()\n",
    "    fireplace_qu = pd.DataFrame(fireplace_qu_data, columns=fireplace_qu_cats)\n",
    "    data = pd.concat([data, fireplace_qu], axis=1)\n",
    "    \n",
    "    data = data.drop(columns=[fireplace_qu_cats[0], column])\n",
    "    return data\n",
    "\n",
    "def chat_words_processing(words, disease):\n",
    "    buzz_words = {\n",
    "        \"depression\":[\"tired\", \"overlooked\", \"depressed\", \"bogged down\", \"disheartened\", \"stressed\", \"bipolar\", \"drained\", \"fatigued\"],\n",
    "        \"sad\": [\"tired\", \"sad\", \"fatigued\"],\n",
    "        \"lumbago\": [\"sore\", \"uncomfortable\", \"in pain\", \"stiff\", \"irritated\"],\n",
    "    }\n",
    "    \n",
    "    words = words.split(\",\")\n",
    "    \n",
    "    score = 0\n",
    "    compare_list = buzz_words[disease]\n",
    "    \n",
    "    for word in words:\n",
    "        if word in compare_list:\n",
    "            score += 1\n",
    "    \n",
    "    return score\n",
    "    \n",
    "    \n",
    "\n",
    "def traffic_condition_processing(tc):\n",
    "    if tc.lower() == 'red':\n",
    "        return 2\n",
    "    elif tc.lower() == 'yellow':\n",
    "        return 1\n",
    "    else:\n",
    "        return 0\n",
    "    "
   ]
  },
  {
   "cell_type": "code",
   "execution_count": 28,
   "metadata": {},
   "outputs": [],
   "source": [
    "def load_predictor_model(name):\n",
    "    filename = '{}.sav'.format(name)\n",
    "    loaded_model = pickle.load(open(filename, 'rb'))\n",
    "    return loaded_model"
   ]
  },
  {
   "cell_type": "code",
   "execution_count": 29,
   "metadata": {},
   "outputs": [],
   "source": [
    "def sanitize_input_data(df):\n",
    "    X = df.iloc[:,1:-4]\n",
    "    \n",
    "    # Data Sanitization\n",
    "    X['stock'] = X['stock'].apply(lambda x: float(str(x)[:-1])/100)  \n",
    "    X['weather'] = X['weather'].apply(lambda x: x.lower())\n",
    "    X = one_hot_encoding(X, 'gender')\n",
    "    X = one_hot_encoding(X, 'weather')\n",
    "    X = one_hot_encoding(X, 'average_chat_tone')\n",
    "    X['traffic condition'] = X['traffic condition'].apply(traffic_condition_processing)\n",
    "    X['chat-words-depression'], X['chat-words-sad'], X['chat-words-lumbago'] = X['chat-words'].apply(lambda x: chat_words_processing(x, \"depression\")), X['chat-words'].apply(lambda x: chat_words_processing(x, \"sad\")), X['chat-words'].apply(lambda x: chat_words_processing(x, \"lumbago\"))\n",
    "    X = X.drop(columns=[\"stock_ticker\", \"chat-words\"])\n",
    "    \n",
    "    return X\n",
    "    "
   ]
  },
  {
   "cell_type": "code",
   "execution_count": 32,
   "metadata": {},
   "outputs": [],
   "source": [
    "def get_prediction(inp, name):\n",
    "    keys = ['ID', 'age', 'gender', 'body_fat_percentage', 'height', 'weight',\n",
    "       'num_breaks', 'num_task_pending', 'average_task_completion_delay',\n",
    "       'calories_eaten', 'morning push percentage',\n",
    "       'afternoon push percentage', 'evening push percentage',\n",
    "       'git_avg_push_time_difference', 'average_chat_tone',\n",
    "       'ergonomic_risk_rating', 'number of times standing',\n",
    "       'minutes_worked_out', 'average_heart_rate', 'traffic condition',\n",
    "       'chat-words', 'location', 'workplace temperature', 'weather',\n",
    "       'entry time', 'exit time', 'stock_ticker', 'stock', 'hours']\n",
    "    \n",
    "    \n",
    "    final = {}\n",
    "    \n",
    "    for key in keys:\n",
    "        if key in inp:\n",
    "            final[key] = inp[key]\n",
    "        else:\n",
    "            return -1\n",
    "    \n",
    "    df = pd.read_csv(\"data/state_prediction.csv\")\n",
    "    X = sanitize_input_data(df)\n",
    "    \n",
    "    df = pd.read_csv(\"data/state_prediction.csv\")\n",
    "    df = df.append(final, ignore_index=True)\n",
    "    X = sanitize_input_data(df)\n",
    "    \n",
    "    \n",
    "    model = load_predictor_model(name)\n",
    "    \n",
    "    \n",
    "    return model.predict_proba(X)[-1][1]\n",
    "        "
   ]
  },
  {
   "cell_type": "code",
   "execution_count": 44,
   "metadata": {},
   "outputs": [
    {
     "data": {
      "text/plain": [
       "0.6545954621024792"
      ]
     },
     "execution_count": 44,
     "metadata": {},
     "output_type": "execute_result"
    }
   ],
   "source": [
    "inp = {'ID':0, \n",
    "       'age':21, \n",
    "       'gender':\"male\", \n",
    "       'body_fat_percentage':12, \n",
    "       'height':169, \n",
    "       'weight':200,\n",
    "       'num_breaks':5, \n",
    "       'num_task_pending':234, \n",
    "       'average_task_completion_delay':1000,\n",
    "       'calories_eaten':500, \n",
    "       'morning push percentage':0.2,\n",
    "       'afternoon push percentage':0.6, \n",
    "       'evening push percentage':0.2,\n",
    "       'git_avg_push_time_difference':10, \n",
    "       'average_chat_tone':'Angry',\n",
    "       'ergonomic_risk_rating':5, \n",
    "       'number of times standing':1,\n",
    "       'minutes_worked_out':0, \n",
    "       'average_heart_rate':180, \n",
    "       'traffic condition':'Red',\n",
    "       'chat-words':\"bad\", \n",
    "       'location':\"77494\", \n",
    "       'workplace temperature':\"23\", \n",
    "       'weather':\"rainy\",\n",
    "       'entry time':3, \n",
    "       'exit time':23, \n",
    "       'stock_ticker':\"GOOG\", \n",
    "       'stock':\"-35%\", \n",
    "       'hours':40}\n",
    "\n",
    "get_prediction(inp, \"depression\")"
   ]
  },
  {
   "cell_type": "code",
   "execution_count": null,
   "metadata": {},
   "outputs": [],
   "source": []
  },
  {
   "cell_type": "code",
   "execution_count": null,
   "metadata": {},
   "outputs": [],
   "source": []
  }
 ],
 "metadata": {
  "kernelspec": {
   "display_name": "Python 3",
   "language": "python",
   "name": "python3"
  },
  "language_info": {
   "codemirror_mode": {
    "name": "ipython",
    "version": 3
   },
   "file_extension": ".py",
   "mimetype": "text/x-python",
   "name": "python",
   "nbconvert_exporter": "python",
   "pygments_lexer": "ipython3",
   "version": "3.6.1"
  }
 },
 "nbformat": 4,
 "nbformat_minor": 2
}
