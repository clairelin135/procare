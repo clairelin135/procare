{
 "cells": [
  {
   "cell_type": "code",
   "execution_count": null,
   "metadata": {},
   "outputs": [],
   "source": [
    "import pandas as pd\n",
    "import numpy as np\n",
    "import pickle\n",
    "from google.cloud import storage\n",
    "from io import StringIO\n",
    "import os"
   ]
  },
  {
   "cell_type": "code",
   "execution_count": null,
   "metadata": {},
   "outputs": [],
   "source": [
    "from sklearn.feature_extraction import DictVectorizer\n",
    "from sklearn.ensemble import RandomForestClassifier\n",
    "from sklearn.linear_model import LogisticRegressionCV\n",
    "from sklearn.model_selection import train_test_split\n",
    "from sklearn.model_selection import StratifiedShuffleSplit\n",
    "from sklearn.metrics import accuracy_score\n",
    "from sklearn.semi_supervised import LabelPropagation, LabelSpreading"
   ]
  },
  {
   "cell_type": "code",
   "execution_count": null,
   "metadata": {},
   "outputs": [],
   "source": [
    "def build_predictor_model(X, y):\n",
    "    logistic_classifier = LogisticRegressionCV()\n",
    "    logistic_classifier.fit(X, y)\n",
    "    print(\"Classifier Accuracy:\", logistic_classifier.score(X, y))\n",
    "    return logistic_classifier "
   ]
  },
  {
   "cell_type": "code",
   "execution_count": null,
   "metadata": {},
   "outputs": [],
   "source": [
    "def save_predictor_model(model, name):\n",
    "    filename = '{}.sav'.format(name)\n",
    "    pickle.dump(model, open(filename, 'wb'))\n",
    "    \n",
    "    bucket_name = \"ieor185-274323.appspot.com\"\n",
    "    source_file_name = filename\n",
    "    destination_blob_name = name\n",
    "\n",
    "    storage_client = storage.Client.from_service_account_json('key.json')\n",
    "    bucket = storage_client.bucket(bucket_name)\n",
    "    blob = bucket.blob(destination_blob_name)\n",
    "\n",
    "    blob.upload_from_filename(source_file_name)\n",
    "\n",
    "    print(\n",
    "        \"File {} uploaded to {}.\".format(\n",
    "            source_file_name, destination_blob_name\n",
    "        )\n",
    "    )\n",
    "    \n",
    "    os.remove(filename)\n"
   ]
  },
  {
   "cell_type": "code",
   "execution_count": null,
   "metadata": {},
   "outputs": [],
   "source": [
    "def one_hot_encoding(data, column):\n",
    "    if column not in data.columns:\n",
    "        return data\n",
    "    \n",
    "    vec_enc = DictVectorizer()\n",
    "    vec_enc.fit(data[[column]].to_dict(orient='records'))\n",
    "    fireplace_qu_data = vec_enc.transform(data[[column]].to_dict(orient='records')).toarray()\n",
    "    fireplace_qu_cats = vec_enc.get_feature_names()\n",
    "    fireplace_qu = pd.DataFrame(fireplace_qu_data, columns=fireplace_qu_cats)\n",
    "    data = pd.concat([data, fireplace_qu], axis=1)\n",
    "    \n",
    "    data = data.drop(columns=[fireplace_qu_cats[0], column])\n",
    "    return data\n",
    "\n",
    "def chat_words_processing(words, disease):\n",
    "    buzz_words = {\n",
    "        \"depression\":[\"tired\", \"overlooked\", \"depressed\", \"bogged down\", \"disheartened\", \"stressed\", \"bipolar\", \"drained\", \"fatigued\"],\n",
    "        \"sad\": [\"tired\", \"sad\", \"fatigued\"],\n",
    "        \"lumbago\": [\"sore\", \"uncomfortable\", \"in pain\", \"stiff\", \"irritated\"],\n",
    "    }\n",
    "    \n",
    "    words = words.split(\",\")\n",
    "    \n",
    "    score = 0\n",
    "    compare_list = buzz_words[disease]\n",
    "    \n",
    "    for word in words:\n",
    "        if word in compare_list:\n",
    "            score += 1\n",
    "    \n",
    "    return score\n",
    "    \n",
    "    \n",
    "\n",
    "def traffic_condition_processing(tc):\n",
    "    if tc.lower() == 'red':\n",
    "        return 2\n",
    "    elif tc.lower() == 'yellow':\n",
    "        return 1\n",
    "    else:\n",
    "        return 0\n",
    "    "
   ]
  },
  {
   "cell_type": "code",
   "execution_count": null,
   "metadata": {},
   "outputs": [],
   "source": [
    "def sanitize_input_data(df):\n",
    "    X = df.iloc[:,1:-4]\n",
    "    Y = df.iloc[:,-4:]\n",
    "    \n",
    "    # Data Sanitization\n",
    "    X['has_roommates'] = X['has_roommates'].apply(lambda x: 1 if x.lower() == 'y' else 0)\n",
    "    X['percent_work_done_in_teams'] = X['percent_work_done_in_teams'].apply(lambda x: float(str(x)[:-1])/100)\n",
    "    X['public_transit_commute'] = X['public_transit_commute'].apply(lambda x: float(str(x)[:-1])/100)\n",
    "    X['lunch_cafeteria_or_other'] = X['lunch_cafeteria_or_other'].apply(lambda x: 1 if x.lower() == 'c' else 0)\n",
    "    X['gender'] = X['gender'].apply(lambda x: 1 if x.lower() == 'male' else 0)\n",
    "\n",
    "    X = one_hot_encoding(X, \"location\")\n",
    "    X = one_hot_encoding(X, \"season\")\n",
    "    \n",
    "    \n",
    "    return X, Y\n",
    "    "
   ]
  },
  {
   "cell_type": "code",
   "execution_count": null,
   "metadata": {},
   "outputs": [],
   "source": [
    "def create_models(df):\n",
    "    X, Y = sanitize_input_data(df)\n",
    "    \n",
    "    print(X.loc[1])\n",
    "    \n",
    "    # Dataset - Depression\n",
    "    X_depression, y_depression = X.copy(), Y.iloc[:,0]\n",
    "    depression_model = build_predictor_model(X_depression, y_depression)\n",
    "    save_predictor_model(depression_model, \"sore throat\")\n",
    "    \n",
    "    # Dataset - SAD\n",
    "    X_sad, y_sad = X.copy(), Y.iloc[:,1]\n",
    "    sad_model = build_predictor_model(X_sad, y_sad)\n",
    "    save_predictor_model(depression_model, \"fever\")\n",
    "    \n",
    "    # Dataset - Lombago\n",
    "    X_lombago, y_lombago = X.copy(), Y.iloc[:,2]\n",
    "    lombago_model = build_predictor_model(X_lombago, y_lombago)\n",
    "    save_predictor_model(depression_model, \"cough\")\n",
    "    \n",
    "    # Dataset - Carpal Tunnel\n",
    "    X_ct, y_ct = X.copy(), Y.iloc[:,3]\n",
    "    ct_model = build_predictor_model(X_ct, y_ct)\n",
    "    save_predictor_model(depression_model, \"allergy\")"
   ]
  },
  {
   "cell_type": "code",
   "execution_count": null,
   "metadata": {},
   "outputs": [],
   "source": [
    "def load_input():\n",
    "    bucket_name = \"ieor185-274323.appspot.com\"\n",
    "    blob_name = \"health_prediction.csv\"\n",
    "\n",
    "    storage_client = storage.Client.from_service_account_json('key.json')\n",
    "    bucket = storage_client.bucket(bucket_name)\n",
    "    blob = bucket.blob(blob_name)\n",
    "    bytes_data = blob.download_as_string()\n",
    "    \n",
    "    s = str(bytes_data,'utf-8')\n",
    "    data = StringIO(s) \n",
    "    \n",
    "    df = pd.read_csv(data)\n",
    "    return df"
   ]
  },
  {
   "cell_type": "code",
   "execution_count": null,
   "metadata": {},
   "outputs": [],
   "source": [
    "df = load_input()\n",
    "create_models(df)"
   ]
  },
  {
   "cell_type": "code",
   "execution_count": null,
   "metadata": {},
   "outputs": [],
   "source": []
  },
  {
   "cell_type": "code",
   "execution_count": null,
   "metadata": {},
   "outputs": [],
   "source": []
  }
 ],
 "metadata": {
  "kernelspec": {
   "display_name": "Python 3",
   "language": "python",
   "name": "python3"
  },
  "language_info": {
   "codemirror_mode": {
    "name": "ipython",
    "version": 3
   },
   "file_extension": ".py",
   "mimetype": "text/x-python",
   "name": "python",
   "nbconvert_exporter": "python",
   "pygments_lexer": "ipython3",
   "version": "3.6.1"
  }
 },
 "nbformat": 4,
 "nbformat_minor": 2
}
