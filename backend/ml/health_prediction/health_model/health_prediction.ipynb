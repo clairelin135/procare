{
 "cells": [
  {
   "cell_type": "code",
   "execution_count": 1,
   "metadata": {},
   "outputs": [],
   "source": [
    "import pandas as pd\n",
    "import numpy as np\n",
    "import pickle\n",
    "from google.cloud import storage\n",
    "from io import StringIO\n",
    "from io import BytesIO\n",
    "import ast"
   ]
  },
  {
   "cell_type": "code",
   "execution_count": 2,
   "metadata": {},
   "outputs": [
    {
     "data": {
      "text/plain": [
       "<firebase_admin.App at 0x10ed75518>"
      ]
     },
     "execution_count": 2,
     "metadata": {},
     "output_type": "execute_result"
    }
   ],
   "source": [
    "import firebase_admin\n",
    "from firebase_admin import credentials\n",
    "from firebase_admin import firestore\n",
    "\n",
    "cred = credentials.Certificate('key.json')  \n",
    "firebase_admin.initialize_app(cred)"
   ]
  },
  {
   "cell_type": "code",
   "execution_count": 3,
   "metadata": {},
   "outputs": [
    {
     "name": "stderr",
     "output_type": "stream",
     "text": [
      "/Users/sudarshan/anaconda/lib/python3.6/site-packages/sklearn/ensemble/weight_boosting.py:29: DeprecationWarning: numpy.core.umath_tests is an internal NumPy module and should not be imported. It will be removed in a future NumPy release.\n",
      "  from numpy.core.umath_tests import inner1d\n"
     ]
    }
   ],
   "source": [
    "from sklearn.feature_extraction import DictVectorizer\n",
    "from sklearn.ensemble import RandomForestClassifier\n",
    "from sklearn.linear_model import LogisticRegressionCV\n",
    "from sklearn.model_selection import train_test_split\n",
    "from sklearn.model_selection import StratifiedShuffleSplit\n",
    "from sklearn.metrics import accuracy_score"
   ]
  },
  {
   "cell_type": "code",
   "execution_count": 4,
   "metadata": {},
   "outputs": [],
   "source": [
    "def one_hot_encoding(data, column):\n",
    "    if column not in data.columns:\n",
    "        return data\n",
    "    \n",
    "    vec_enc = DictVectorizer()\n",
    "    vec_enc.fit(data[[column]].to_dict(orient='records'))\n",
    "    fireplace_qu_data = vec_enc.transform(data[[column]].to_dict(orient='records')).toarray()\n",
    "    fireplace_qu_cats = vec_enc.get_feature_names()\n",
    "    fireplace_qu = pd.DataFrame(fireplace_qu_data, columns=fireplace_qu_cats)\n",
    "    data = pd.concat([data, fireplace_qu], axis=1)\n",
    "    \n",
    "    data = data.drop(columns=[fireplace_qu_cats[0], column])\n",
    "    return data    "
   ]
  },
  {
   "cell_type": "code",
   "execution_count": 5,
   "metadata": {},
   "outputs": [],
   "source": [
    "def load_predictor_model(name):\n",
    "    bucket_name = \"ieor185-274323.appspot.com\"\n",
    "    blob_name = name\n",
    "\n",
    "    storage_client = storage.Client.from_service_account_json('key.json')\n",
    "    bucket = storage_client.bucket(bucket_name)\n",
    "    blob = bucket.blob(blob_name)\n",
    "    bytes_data = blob.download_as_string()\n",
    "    \n",
    "    data = BytesIO(bytes_data)\n",
    "    \n",
    "    loaded_model = pickle.Unpickler(data).load()\n",
    "    \n",
    "    return loaded_model"
   ]
  },
  {
   "cell_type": "code",
   "execution_count": 6,
   "metadata": {},
   "outputs": [],
   "source": [
    "def sanitize_input_data(df):\n",
    "    X = df.iloc[:,1:-4]\n",
    "    Y = df.iloc[:,-4:]\n",
    "    \n",
    "    # Data Sanitization\n",
    "    X['has_roommates'] = X['has_roommates'].apply(lambda x: 1 if x.lower() == 'y' else 0)\n",
    "    X['percent_work_done_in_teams'] = X['percent_work_done_in_teams'].apply(lambda x: float(str(x)[:-1])/100)\n",
    "    X['public_transit_commute'] = X['public_transit_commute'].apply(lambda x: 1 if x.lower() == 'y' else 0)\n",
    "    X['lunch_cafeteria_or_other'] = X['lunch_cafeteria_or_other'].apply(lambda x: 1 if x.lower() == 'c' else 0)\n",
    "    X['gender'] = X['gender'].apply(lambda x: 1 if x.lower() == 'male' else 0)\n",
    "\n",
    "    X = one_hot_encoding(X, \"location\")\n",
    "    X = one_hot_encoding(X, \"season\")\n",
    "    \n",
    "    \n",
    "    return X, Y"
   ]
  },
  {
   "cell_type": "code",
   "execution_count": 7,
   "metadata": {},
   "outputs": [],
   "source": [
    "def load_input_firebase():\n",
    "    keys_all = ['ID', 'age', 'gender', 'weight', 'num_task_pending',\n",
    "       'average_task_completion_delay', 'avg_sleep', 'calories_eaten',\n",
    "       'water_drank', 'lunch_cafeteria_or_other', 'percent_work_done_in_teams',\n",
    "       'public_transit_commute', 'entry time', 'exit time', 'hours', 'height',\n",
    "       'num_breaks', 'season', 'location', 'has_roommates', 'num_laundry',\n",
    "        \"sore throat\",\"fever\",\"cough\",\"allergy symptoms\"]\n",
    "    \n",
    "    db = firestore.client()\n",
    "    \n",
    "    docs = db.collection(u'health_prediction').get()\n",
    "    rows = []\n",
    "    \n",
    "    for doc in docs:\n",
    "        rows.append(doc.to_dict())\n",
    "        \n",
    "    return pd.DataFrame(data=rows, columns=keys_all).dropna()"
   ]
  },
  {
   "cell_type": "code",
   "execution_count": 8,
   "metadata": {},
   "outputs": [],
   "source": [
    "def get_prediction(inp, name):\n",
    "    keys = ['ID', 'age', 'gender', 'weight', 'num_task_pending',\n",
    "       'average_task_completion_delay', 'avg_sleep', 'calories_eaten',\n",
    "       'water_drank', 'lunch_cafeteria_or_other', 'percent_work_done_in_teams',\n",
    "       'public_transit_commute', 'entry time', 'exit time', 'hours', 'height',\n",
    "       'num_breaks', 'season', 'location', 'has_roommates', 'num_laundry']\n",
    "    \n",
    "    \n",
    "    final = {}\n",
    "    \n",
    "    for key in keys:\n",
    "        if key in inp:\n",
    "            final[key] = inp[key]\n",
    "        else:\n",
    "            return -1\n",
    "    \n",
    "    df = load_input_firebase()\n",
    "    df = df.append(final, ignore_index=True)\n",
    "    X, Y = sanitize_input_data(df)\n",
    "        \n",
    "    model = load_predictor_model(name)\n",
    "        \n",
    "    return str(model.predict_proba(X)[-1][1])\n",
    "        "
   ]
  },
  {
   "cell_type": "code",
   "execution_count": 9,
   "metadata": {},
   "outputs": [
    {
     "data": {
      "text/plain": [
       "'0.5592140016473608'"
      ]
     },
     "execution_count": 9,
     "metadata": {},
     "output_type": "execute_result"
    }
   ],
   "source": [
    "inp = {\n",
    "    'ID':1, \n",
    "    'age':21, \n",
    "    'gender':\"male\", \n",
    "    'weight':190, \n",
    "    'num_task_pending':0,\n",
    "    'average_task_completion_delay':5, \n",
    "    'avg_sleep':8, \n",
    "    'calories_eaten':2000,\n",
    "    'water_drank':10, \n",
    "    'lunch_cafeteria_or_other':'c', \n",
    "    'percent_work_done_in_teams':\"100%\",\n",
    "    'public_transit_commute':\"y\", \n",
    "    'entry time':9, \n",
    "    'exit time':6, \n",
    "    'hours':8, \n",
    "    'height':168,\n",
    "    'num_breaks':10, \n",
    "    'season':\"spring\", \n",
    "    'location':\"SF\", \n",
    "    'has_roommates':\"y\", \n",
    "    'num_laundry':\"0\",\n",
    "}\n",
    "\n",
    "get_prediction(inp, \"allergy\")"
   ]
  },
  {
   "cell_type": "code",
   "execution_count": null,
   "metadata": {},
   "outputs": [],
   "source": []
  },
  {
   "cell_type": "code",
   "execution_count": null,
   "metadata": {},
   "outputs": [],
   "source": []
  }
 ],
 "metadata": {
  "kernelspec": {
   "display_name": "Python 3",
   "language": "python",
   "name": "python3"
  },
  "language_info": {
   "codemirror_mode": {
    "name": "ipython",
    "version": 3
   },
   "file_extension": ".py",
   "mimetype": "text/x-python",
   "name": "python",
   "nbconvert_exporter": "python",
   "pygments_lexer": "ipython3",
   "version": "3.6.1"
  }
 },
 "nbformat": 4,
 "nbformat_minor": 2
}
