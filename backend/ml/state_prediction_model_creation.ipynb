{
 "cells": [
  {
   "cell_type": "code",
   "execution_count": 38,
   "metadata": {},
   "outputs": [],
   "source": [
    "import pandas as pd\n",
    "import numpy as np\n",
    "import pickle"
   ]
  },
  {
   "cell_type": "code",
   "execution_count": 39,
   "metadata": {},
   "outputs": [],
   "source": [
    "from sklearn.feature_extraction import DictVectorizer\n",
    "from sklearn.ensemble import RandomForestClassifier\n",
    "from sklearn.linear_model import LogisticRegressionCV\n",
    "from sklearn.model_selection import train_test_split\n",
    "from sklearn.model_selection import StratifiedShuffleSplit\n",
    "from sklearn.metrics import accuracy_score\n",
    "from sklearn.semi_supervised import LabelPropagation, LabelSpreading"
   ]
  },
  {
   "cell_type": "code",
   "execution_count": 40,
   "metadata": {},
   "outputs": [],
   "source": [
    "def one_hot_encoding(data, column):\n",
    "    if column not in data.columns:\n",
    "        return data\n",
    "    \n",
    "    vec_enc = DictVectorizer()\n",
    "    vec_enc.fit(data[[column]].to_dict(orient='records'))\n",
    "    fireplace_qu_data = vec_enc.transform(data[[column]].to_dict(orient='records')).toarray()\n",
    "    fireplace_qu_cats = vec_enc.get_feature_names()\n",
    "    fireplace_qu = pd.DataFrame(fireplace_qu_data, columns=fireplace_qu_cats)\n",
    "    data = pd.concat([data, fireplace_qu], axis=1)\n",
    "    \n",
    "    data = data.drop(columns=[fireplace_qu_cats[0], column])\n",
    "    return data\n",
    "\n",
    "def chat_words_processing(words, disease):\n",
    "    buzz_words = {\n",
    "        \"depression\":[\"tired\", \"overlooked\", \"depressed\", \"bogged down\", \"disheartened\", \"stressed\", \"bipolar\", \"drained\", \"fatigued\"],\n",
    "        \"sad\": [\"tired\", \"sad\", \"fatigued\"],\n",
    "        \"lumbago\": [\"sore\", \"uncomfortable\", \"in pain\", \"stiff\", \"irritated\"],\n",
    "    }\n",
    "    \n",
    "    words = words.split(\",\")\n",
    "    \n",
    "    score = 0\n",
    "    compare_list = buzz_words[disease]\n",
    "    \n",
    "    for word in words:\n",
    "        if word in compare_list:\n",
    "            score += 1\n",
    "    \n",
    "    return score\n",
    "    \n",
    "    \n",
    "\n",
    "def traffic_condition_processing(tc):\n",
    "    if tc.lower() == 'red':\n",
    "        return 2\n",
    "    elif tc.lower() == 'yellow':\n",
    "        return 1\n",
    "    else:\n",
    "        return 0\n",
    "    "
   ]
  },
  {
   "cell_type": "code",
   "execution_count": 41,
   "metadata": {},
   "outputs": [],
   "source": [
    "def build_predictor_model(X, y):\n",
    "    logistic_classifier = LogisticRegressionCV()\n",
    "    logistic_classifier.fit(X, y)\n",
    "    print(\"Classifier Accuracy:\", logistic_classifier.score(X, y))\n",
    "    return logistic_classifier "
   ]
  },
  {
   "cell_type": "code",
   "execution_count": 42,
   "metadata": {},
   "outputs": [],
   "source": [
    "def save_predictor_model(model, name):\n",
    "    filename = '{}.sav'.format(name)\n",
    "    pickle.dump(model, open(filename, 'wb'))"
   ]
  },
  {
   "cell_type": "code",
   "execution_count": 43,
   "metadata": {},
   "outputs": [],
   "source": [
    "def sanitize_input_data(df):\n",
    "    X = df.iloc[:,1:-4]\n",
    "    Y = df.iloc[:,-4:]\n",
    "    \n",
    "    # Data Sanitization\n",
    "    X['stock'] = X['stock'].apply(lambda x: float(str(x)[:-1])/100)  \n",
    "    X['weather'] = X['weather'].apply(lambda x: x.lower())\n",
    "    X = one_hot_encoding(X, 'gender')\n",
    "    X = one_hot_encoding(X, 'weather')\n",
    "    X = one_hot_encoding(X, 'average_chat_tone')\n",
    "    X['traffic condition'] = X['traffic condition'].apply(traffic_condition_processing)\n",
    "    X['chat-words-depression'], X['chat-words-sad'], X['chat-words-lumbago'] = X['chat-words'].apply(lambda x: chat_words_processing(x, \"depression\")), X['chat-words'].apply(lambda x: chat_words_processing(x, \"sad\")), X['chat-words'].apply(lambda x: chat_words_processing(x, \"lumbago\"))\n",
    "    X = X.drop(columns=[\"stock_ticker\", \"chat-words\"])\n",
    "    \n",
    "    return X, Y\n",
    "    "
   ]
  },
  {
   "cell_type": "code",
   "execution_count": 44,
   "metadata": {},
   "outputs": [],
   "source": [
    "def create_models(df):\n",
    "    X, Y = sanitize_input_data(df)\n",
    "    \n",
    "    # Dataset - Depression\n",
    "    X_depression, y_depression = X.copy(), Y.iloc[:,0]\n",
    "    depression_model = build_predictor_model(X_depression, y_depression)\n",
    "    save_predictor_model(depression_model, \"depression\")\n",
    "    \n",
    "    # Dataset - SAD\n",
    "    X_sad, y_sad = X.copy(), Y.iloc[:,1]\n",
    "    sad_model = build_predictor_model(X_sad, y_sad)\n",
    "    save_predictor_model(depression_model, \"sad\")\n",
    "    \n",
    "    # Dataset - Lombago\n",
    "    X_lombago, y_lombago = X.copy(), Y.iloc[:,2]\n",
    "    lombago_model = build_predictor_model(X_lombago, y_lombago)\n",
    "    save_predictor_model(depression_model, \"lombago\")\n",
    "    \n",
    "    # Dataset - Carpal Tunnel\n",
    "    X_ct, y_ct = X.copy(), Y.iloc[:,3]\n",
    "    ct_model = build_predictor_model(X_ct, y_ct)\n",
    "    save_predictor_model(depression_model, \"ct\")"
   ]
  },
  {
   "cell_type": "code",
   "execution_count": 45,
   "metadata": {},
   "outputs": [],
   "source": [
    "def load_input():\n",
    "    df = pd.read_csv(\"data/state_prediction.csv\")\n",
    "    return df"
   ]
  },
  {
   "cell_type": "code",
   "execution_count": 46,
   "metadata": {},
   "outputs": [
    {
     "name": "stdout",
     "output_type": "stream",
     "text": [
      "Classifier Accuracy: 0.66\n",
      "Classifier Accuracy: 0.78\n",
      "Classifier Accuracy: 0.84\n",
      "Classifier Accuracy: 0.78\n"
     ]
    }
   ],
   "source": [
    "df = load_input()\n",
    "create_models(df)"
   ]
  },
  {
   "cell_type": "code",
   "execution_count": null,
   "metadata": {},
   "outputs": [],
   "source": []
  },
  {
   "cell_type": "code",
   "execution_count": null,
   "metadata": {},
   "outputs": [],
   "source": []
  }
 ],
 "metadata": {
  "kernelspec": {
   "display_name": "Python 3",
   "language": "python",
   "name": "python3"
  },
  "language_info": {
   "codemirror_mode": {
    "name": "ipython",
    "version": 3
   },
   "file_extension": ".py",
   "mimetype": "text/x-python",
   "name": "python",
   "nbconvert_exporter": "python",
   "pygments_lexer": "ipython3",
   "version": "3.6.1"
  }
 },
 "nbformat": 4,
 "nbformat_minor": 2
}
